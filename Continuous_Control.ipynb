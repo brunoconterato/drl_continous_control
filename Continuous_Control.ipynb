{
 "cells": [
  {
   "cell_type": "markdown",
   "metadata": {},
   "source": [
    "# Continuous Control\n",
    "\n",
    "---\n",
    "\n",
    "In this notebook, you will learn how to use the Unity ML-Agents environment for the second project of the [Deep Reinforcement Learning Nanodegree](https://www.udacity.com/course/deep-reinforcement-learning-nanodegree--nd893) program.\n",
    "\n",
    "### 1. Start the Environment\n",
    "\n",
    "We begin by importing the necessary packages.  If the code cell below returns an error, please revisit the project instructions to double-check that you have installed [Unity ML-Agents](https://github.com/Unity-Technologies/ml-agents/blob/master/docs/Installation.md) and [NumPy](http://www.numpy.org/)."
   ]
  },
  {
   "cell_type": "code",
   "execution_count": 1,
   "metadata": {},
   "outputs": [],
   "source": [
    "from unityagents import UnityEnvironment\n",
    "import numpy as np"
   ]
  },
  {
   "cell_type": "markdown",
   "metadata": {},
   "source": [
    "Next, we will start the environment!  **_Before running the code cell below_**, change the `file_name` parameter to match the location of the Unity environment that you downloaded.\n",
    "\n",
    "- **Mac**: `\"path/to/Reacher.app\"`\n",
    "- **Windows** (x86): `\"path/to/Reacher_Windows_x86/Reacher.exe\"`\n",
    "- **Windows** (x86_64): `\"path/to/Reacher_Windows_x86_64/Reacher.exe\"`\n",
    "- **Linux** (x86): `\"path/to/Reacher_Linux/Reacher.x86\"`\n",
    "- **Linux** (x86_64): `\"path/to/Reacher_Linux/Reacher.x86_64\"`\n",
    "- **Linux** (x86, headless): `\"path/to/Reacher_Linux_NoVis/Reacher.x86\"`\n",
    "- **Linux** (x86_64, headless): `\"path/to/Reacher_Linux_NoVis/Reacher.x86_64\"`\n",
    "\n",
    "For instance, if you are using a Mac, then you downloaded `Reacher.app`.  If this file is in the same folder as the notebook, then the line below should appear as follows:\n",
    "```\n",
    "env = UnityEnvironment(file_name=\"Reacher.app\")\n",
    "```"
   ]
  },
  {
   "cell_type": "code",
   "execution_count": 2,
   "metadata": {},
   "outputs": [
    {
     "name": "stderr",
     "output_type": "stream",
     "text": [
      "INFO:unityagents:\n",
      "'Academy' started successfully!\n",
      "Unity Academy name: Academy\n",
      "        Number of Brains: 1\n",
      "        Number of External Brains : 1\n",
      "        Lesson number : 0\n",
      "        Reset Parameters :\n",
      "\t\tgoal_speed -> 1.0\n",
      "\t\tgoal_size -> 5.0\n",
      "Unity brain name: ReacherBrain\n",
      "        Number of Visual Observations (per agent): 0\n",
      "        Vector Observation space type: continuous\n",
      "        Vector Observation space size (per agent): 33\n",
      "        Number of stacked Vector Observation: 1\n",
      "        Vector Action space type: continuous\n",
      "        Vector Action space size (per agent): 4\n",
      "        Vector Action descriptions: , , , \n"
     ]
    }
   ],
   "source": [
    "env = UnityEnvironment(file_name='Reacher_Windows_x86_64/Reacher.exe')"
   ]
  },
  {
   "cell_type": "markdown",
   "metadata": {},
   "source": [
    "Environments contain **_brains_** which are responsible for deciding the actions of their associated agents. Here we check for the first brain available, and set it as the default brain we will be controlling from Python."
   ]
  },
  {
   "cell_type": "code",
   "execution_count": 3,
   "metadata": {},
   "outputs": [],
   "source": [
    "# get the default brain\n",
    "brain_name = env.brain_names[0]\n",
    "brain = env.brains[brain_name]"
   ]
  },
  {
   "cell_type": "markdown",
   "metadata": {},
   "source": [
    "### 2. Examine the State and Action Spaces\n",
    "\n",
    "In this environment, a double-jointed arm can move to target locations. A reward of `+0.1` is provided for each step that the agent's hand is in the goal location. Thus, the goal of your agent is to maintain its position at the target location for as many time steps as possible.\n",
    "\n",
    "The observation space consists of `33` variables corresponding to position, rotation, velocity, and angular velocities of the arm.  Each action is a vector with four numbers, corresponding to torque applicable to two joints.  Every entry in the action vector must be a number between `-1` and `1`.\n",
    "\n",
    "Run the code cell below to print some information about the environment."
   ]
  },
  {
   "cell_type": "code",
   "execution_count": 4,
   "metadata": {},
   "outputs": [
    {
     "name": "stdout",
     "output_type": "stream",
     "text": [
      "Number of agents: 20\n",
      "Size of each action: 4\n",
      "There are 20 agents. Each observes a state with length: 33\n",
      "The state for the first agent looks like: [ 0.00000000e+00 -4.00000000e+00  0.00000000e+00  1.00000000e+00\n",
      " -0.00000000e+00 -0.00000000e+00 -4.37113883e-08  0.00000000e+00\n",
      "  0.00000000e+00  0.00000000e+00  0.00000000e+00  0.00000000e+00\n",
      "  0.00000000e+00  0.00000000e+00 -1.00000000e+01  0.00000000e+00\n",
      "  1.00000000e+00 -0.00000000e+00 -0.00000000e+00 -4.37113883e-08\n",
      "  0.00000000e+00  0.00000000e+00  0.00000000e+00  0.00000000e+00\n",
      "  0.00000000e+00  0.00000000e+00  5.75471878e+00 -1.00000000e+00\n",
      "  5.55726624e+00  0.00000000e+00  1.00000000e+00  0.00000000e+00\n",
      " -1.68164849e-01]\n"
     ]
    }
   ],
   "source": [
    "# reset the environment\n",
    "env_info = env.reset(train_mode=True)[brain_name]\n",
    "\n",
    "# number of agents\n",
    "num_agents = len(env_info.agents)\n",
    "print('Number of agents:', num_agents)\n",
    "\n",
    "# size of each action\n",
    "action_size = brain.vector_action_space_size\n",
    "print('Size of each action:', action_size)\n",
    "\n",
    "# examine the state space \n",
    "states = env_info.vector_observations\n",
    "state_size = states.shape[1]\n",
    "print('There are {} agents. Each observes a state with length: {}'.format(states.shape[0], state_size))\n",
    "print('The state for the first agent looks like:', states[0])"
   ]
  },
  {
   "cell_type": "markdown",
   "metadata": {},
   "source": [
    "### 3. Take Random Actions in the Environment\n",
    "\n",
    "In the next code cell, you will learn how to use the Python API to control the agent and receive feedback from the environment.\n",
    "\n",
    "Once this cell is executed, you will watch the agent's performance, if it selects an action at random with each time step.  A window should pop up that allows you to observe the agent, as it moves through the environment.  \n",
    "\n",
    "Of course, as part of the project, you'll have to change the code so that the agent is able to use its experience to gradually choose better actions when interacting with the environment!"
   ]
  },
  {
   "cell_type": "raw",
   "metadata": {},
   "source": [
    "env_info = env.reset(train_mode=False)[brain_name]     # reset the environment    \n",
    "states = env_info.vector_observations                  # get the current state (for each agent)\n",
    "scores = np.zeros(num_agents)                          # initialize the score (for each agent)\n",
    "while True:\n",
    "    actions = np.random.randn(num_agents, action_size) # select an action (for each agent)\n",
    "    actions = np.clip(actions, -1, 1)                  # all actions between -1 and 1\n",
    "    env_info = env.step(actions)[brain_name]           # send all actions to tne environment\n",
    "    next_states = env_info.vector_observations         # get next state (for each agent)\n",
    "    rewards = env_info.rewards                         # get reward (for each agent)\n",
    "    dones = env_info.local_done                        # see if episode finished\n",
    "    scores += env_info.rewards                         # update the score (for each agent)\n",
    "    states = next_states                               # roll over states to next time step\n",
    "    if np.any(dones):                                  # exit loop if episode finished\n",
    "        break\n",
    "print('Total score (averaged over agents) this episode: {}'.format(np.mean(scores)))"
   ]
  },
  {
   "cell_type": "markdown",
   "metadata": {},
   "source": [
    "When finished, you can close the environment."
   ]
  },
  {
   "cell_type": "raw",
   "metadata": {},
   "source": [
    "env.close()"
   ]
  },
  {
   "cell_type": "markdown",
   "metadata": {},
   "source": [
    "### 4. It's Your Turn!\n",
    "\n",
    "Now it's your turn to train your own agent to solve the environment!  When training the environment, set `train_mode=True`, so that the line for resetting the environment looks like the following:\n",
    "```python\n",
    "env_info = env.reset(train_mode=True)[brain_name]\n",
    "```"
   ]
  },
  {
   "cell_type": "code",
   "execution_count": 5,
   "metadata": {},
   "outputs": [],
   "source": [
    "from ddpg_agent import Agent\n",
    "from model import Actor, Critic\n",
    "\n",
    "from collections import deque\n",
    "import torch\n",
    "import matplotlib.pyplot as plt\n",
    "\n",
    "import torch\n",
    "import torch.nn as nn\n",
    "import torch.nn.functional as F\n",
    "import torch.optim as optim\n",
    "\n",
    "import time\n",
    "import datetime"
   ]
  },
  {
   "cell_type": "code",
   "execution_count": 6,
   "metadata": {},
   "outputs": [],
   "source": [
    "def reset_env(env, brain_name, train_mode, verbose = False):\n",
    "    # reset the environment\n",
    "    env_info = env.reset(train_mode=train_mode)[brain_name]\n",
    "    \n",
    "    if verbose:\n",
    "        # number of agents in the environment\n",
    "        print('Number of agents:', num_agents)\n",
    "        \n",
    "        # size of each action\n",
    "        print('Size of each action:', action_size)\n",
    "\n",
    "        # number of actions\n",
    "        action_size = brain.vector_action_space_size\n",
    "        print('Number of actions:', action_size)\n",
    "\n",
    "        # examine the state space \n",
    "        states = env_info.vector_observations\n",
    "        state_size = states[0].shape[1]\n",
    "        print('There are {} agents. Each observes a state with length: {}'.format(states.shape[0], state_size))\n",
    "        print('The state for the first agent looks like:', states[0])\n",
    "\n",
    "    return env_info"
   ]
  },
  {
   "cell_type": "code",
   "execution_count": 7,
   "metadata": {},
   "outputs": [],
   "source": [
    "def get_data_from_env_info(env_info, verbose = False):\n",
    "    states = env_info.vector_observations\n",
    "    rewards = env_info.rewards\n",
    "    dones = env_info.local_done\n",
    "    \n",
    "    return states, rewards, dones"
   ]
  },
  {
   "cell_type": "code",
   "execution_count": 8,
   "metadata": {},
   "outputs": [],
   "source": [
    "# https://makersportal.com/blog/2018/8/14/real-time-graphing-in-python\n",
    "\n",
    "# use ggplot style for more sophisticated visuals\n",
    "plt.style.use('ggplot')\n",
    "\n",
    "def live_plotter(x_vec,y1_data,line1,identifier='',pause_time=0.1):\n",
    "    if line1==[]:\n",
    "        # this is the call to matplotlib that allows dynamic plotting\n",
    "        plt.ion()\n",
    "        fig = plt.figure(figsize=(13,6))\n",
    "        ax = fig.add_subplot(111)\n",
    "        # create a variable for the line so we can later update it\n",
    "        line1, = ax.plot(x_vec,y1_data,'-o',alpha=0.8)        \n",
    "        #update plot label/title\n",
    "        plt.ylabel('Y Label')\n",
    "        plt.title('Title: {}'.format(identifier))\n",
    "        plt.show()\n",
    "    \n",
    "    # after the figure, axis, and line are created, we only need to update the y-data\n",
    "    line1.set_ydata(y1_data)\n",
    "    # adjust limits if new data goes beyond bounds\n",
    "    if np.min(y1_data)<=line1.axes.get_ylim()[0] or np.max(y1_data)>=line1.axes.get_ylim()[1]:\n",
    "        plt.ylim([np.min(y1_data)-np.std(y1_data),np.max(y1_data)+np.std(y1_data)])\n",
    "    # this pauses the data so the figure/axis can catch up - the amount of pause can be altered above\n",
    "    plt.pause(pause_time)\n",
    "    \n",
    "    # return line so we can update it again in the next iteration\n",
    "    return line1"
   ]
  },
  {
   "cell_type": "code",
   "execution_count": 9,
   "metadata": {},
   "outputs": [],
   "source": [
    "def ddpg(agents, env, brain_name, n_episodes=300, max_t=1000, print_every=100,\n",
    "         filename_actor='checkpoint_actor.pth', filename_critic='checkpoint_critic.pth'):\n",
    "    \n",
    "    # start real time plotting\n",
    "    #plt.ion()\n",
    "    #fig = plt.figure()\n",
    "    #ax = fig.add_subplot(111)\n",
    "    #line1, = ax.plot([], [],'-o',alpha=0.8)\n",
    "    #plt.show()\n",
    "    #plt.axis([0, 300, 0, 35])\n",
    "    #fig, ax = plt.subplots()\n",
    "    #line = []\n",
    "    \n",
    "    num_agents = len(agents)\n",
    "    \n",
    "    average_scores = []\n",
    "    average_scores_deque = deque(maxlen=100)\n",
    "    \n",
    "    for i_episode in range(1, n_episodes+1):\n",
    "        scores = np.zeros(num_agents)\n",
    "        \n",
    "        env_info = reset_env(env, brain_name, train_mode=True)\n",
    "        states, _0, _1 = get_data_from_env_info(env_info)\n",
    "        \n",
    "        for agent in agents:\n",
    "            agent.reset()\n",
    "        \n",
    "        for t in range(max_t):\n",
    "            actions = [agents[i].act(states[i]) for i in range(num_agents)]\n",
    "            env_info = env.step(actions)[brain_name]\n",
    "            \n",
    "            next_states, rewards, dones = get_data_from_env_info(env_info)\n",
    "            \n",
    "            for a in range(num_agents):\n",
    "                agents[a].step(states[a], actions[a], rewards[a], next_states[a], dones[a])\n",
    "            \n",
    "            Agent.step_timestap(t)\n",
    "            \n",
    "            states = next_states\n",
    "            scores += rewards\n",
    "            \n",
    "            if (np.any(dones)):\n",
    "                break\n",
    "        \n",
    "        episode_mean_scores = np.mean(scores)\n",
    "        average_scores_deque.append(episode_mean_scores)\n",
    "        average_scores.append(episode_mean_scores)\n",
    "        \n",
    "        # plotting intermediate results \n",
    "        #plt.scatter(i_episode, episode_mean_scores)\n",
    "        #plt.show()\n",
    "        #ax1.plot(range(1, i_episode+1), average_scores)\n",
    "        #plt.show()\n",
    "        #line = live_plotter(range(1, i_episode+1), average_scores, line)\n",
    "        \n",
    "        # prints\n",
    "        print('\\rEpisode {0}\\tScore: {1:.2f} \\tAverage Score (last 100): {2:.2f}'.format(i_episode, episode_mean_scores, np.mean(average_scores_deque)), end=\"\")\n",
    "        if i_episode % print_every == 0:\n",
    "            print('\\rEpisode {0}\\tScore: {1:.2f} \\tAverage Score (last 100): {2:.2f}'.format(i_episode, episode_mean_scores, np.mean(average_scores_deque)))\n",
    "        if np.mean(average_scores_deque)>=30.0 and len(average_scores_deque)==100:\n",
    "            print('\\nEnvironment solved in {:d} episodes!\\tAverage Score: {:.2f}'.format(i_episode-100, np.mean(average_scores_deque)))\n",
    "            torch.save(Agent.actor_local.state_dict(), filename_actor)\n",
    "            torch.save(Agent.critic_local.state_dict(), filename_critic)\n",
    "            break\n",
    "        \n",
    "    return average_scores"
   ]
  },
  {
   "cell_type": "code",
   "execution_count": 10,
   "metadata": {},
   "outputs": [],
   "source": [
    "def plot_scores(scores):\n",
    "    fig = plt.figure()\n",
    "    ax = fig.add_subplot(111)\n",
    "    plt.plot(np.arange(1, len(scores)+1), scores)\n",
    "    plt.ylabel('Score')\n",
    "    plt.xlabel('Episode #')\n",
    "    plt.show()"
   ]
  },
  {
   "cell_type": "code",
   "execution_count": 11,
   "metadata": {},
   "outputs": [],
   "source": [
    "def watch_agents(agents, brain_name, filename_actor='checkpoint_actor.pth', filename_critic='checkpoint_critic.pth',\n",
    "                n_episodes = 5, max_t = 200, random_seed = 0):\n",
    "    # load the weights from files\n",
    "    Agent.actor_local.load_state_dict(torch.load(filename_actor))\n",
    "    Agent.critic_local.load_state_dict(torch.load(filename_critic))\n",
    "\n",
    "    episode_mean_scores, average_scores = [], []\n",
    "    \n",
    "    for i_episode in range(n_episodes):\n",
    "        scores = np.zeros(num_agents)\n",
    "        \n",
    "        env_info = reset_env(env, brain_name, train_mode=True)\n",
    "        states, rewards, dones = get_data_from_env_info(env_info)\n",
    "        \n",
    "        for t in range(max_t):\n",
    "            actions = [agents[i].act(states[i]) for i in range(num_agents)]\n",
    "            env_info = env.step(actions)[brain_name]\n",
    "            states, rewards, dones = get_data_from_env_info(env_info)\n",
    "            scores += rewards\n",
    "            if np.any(dones):\n",
    "                break\n",
    "        \n",
    "        episode_mean_scores = np.mean(scores)\n",
    "        average_scores.append(episode_mean_scores)\n",
    "        print(\"Episode {0} average of total rewards: {1}\".format(i_episode+1, episode_mean_scores))\n",
    "    \n",
    "    print(\"Average score of agents: {0}\".format(np.mean(average_scores)))"
   ]
  },
  {
   "cell_type": "code",
   "execution_count": 12,
   "metadata": {},
   "outputs": [],
   "source": [
    "#Seed\n",
    "random_seed = 987;\n",
    "\n",
    "#Creating agents with shared networks\n",
    "agents = [Agent(state_size, action_size, random_seed) for _ in range(num_agents)]"
   ]
  },
  {
   "cell_type": "code",
   "execution_count": 13,
   "metadata": {},
   "outputs": [
    {
     "name": "stderr",
     "output_type": "stream",
     "text": [
      "C:\\workspace\\ud-deep-reinforcement-learning\\p2_continuous-control\\ddpg_agent.py:147: UserWarning: torch.nn.utils.clip_grad_norm is now deprecated in favor of torch.nn.utils.clip_grad_norm_.\n",
      "  torch.nn.utils.clip_grad_norm(cls.critic_local.parameters(), 1)\n"
     ]
    },
    {
     "name": "stdout",
     "output_type": "stream",
     "text": [
      "Episode 1\tScore: 0.64 \tAverage Score (last 100): 0.64\n",
      "Episode 2\tScore: 1.09 \tAverage Score (last 100): 0.87\n",
      "Episode 3\tScore: 1.86 \tAverage Score (last 100): 1.20\n",
      "Episode 4\tScore: 2.27 \tAverage Score (last 100): 1.47\n",
      "Episode 5\tScore: 2.84 \tAverage Score (last 100): 1.74\n",
      "Episode 6\tScore: 3.08 \tAverage Score (last 100): 1.96\n",
      "Episode 7\tScore: 3.72 \tAverage Score (last 100): 2.21\n",
      "Episode 8\tScore: 4.99 \tAverage Score (last 100): 2.56\n",
      "Episode 9\tScore: 4.23 \tAverage Score (last 100): 2.75\n",
      "Episode 10\tScore: 5.28 \tAverage Score (last 100): 3.00\n",
      "Episode 11\tScore: 6.28 \tAverage Score (last 100): 3.30\n",
      "Episode 12\tScore: 6.84 \tAverage Score (last 100): 3.59\n",
      "Episode 13\tScore: 7.74 \tAverage Score (last 100): 3.91\n",
      "Episode 14\tScore: 8.77 \tAverage Score (last 100): 4.26\n",
      "Episode 15\tScore: 9.18 \tAverage Score (last 100): 4.59\n",
      "Episode 16\tScore: 9.07 \tAverage Score (last 100): 4.87\n",
      "Episode 17\tScore: 9.53 \tAverage Score (last 100): 5.14\n",
      "Episode 18\tScore: 10.02 \tAverage Score (last 100): 5.41\n",
      "Episode 19\tScore: 10.92 \tAverage Score (last 100): 5.70\n",
      "Episode 20\tScore: 11.64 \tAverage Score (last 100): 6.00\n",
      "Episode 21\tScore: 13.38 \tAverage Score (last 100): 6.35\n",
      "Episode 22\tScore: 12.84 \tAverage Score (last 100): 6.65\n",
      "Episode 23\tScore: 14.31 \tAverage Score (last 100): 6.98\n",
      "Episode 24\tScore: 14.05 \tAverage Score (last 100): 7.27\n",
      "Episode 25\tScore: 14.29 \tAverage Score (last 100): 7.55\n",
      "Episode 26\tScore: 14.25 \tAverage Score (last 100): 7.81\n",
      "Episode 27\tScore: 16.38 \tAverage Score (last 100): 8.13\n",
      "Episode 28\tScore: 15.86 \tAverage Score (last 100): 8.41\n",
      "Episode 29\tScore: 15.61 \tAverage Score (last 100): 8.65\n",
      "Episode 30\tScore: 15.83 \tAverage Score (last 100): 8.89\n",
      "Episode 31\tScore: 18.34 \tAverage Score (last 100): 9.20\n",
      "Episode 32\tScore: 17.75 \tAverage Score (last 100): 9.46\n",
      "Episode 33\tScore: 18.09 \tAverage Score (last 100): 9.73\n",
      "Episode 34\tScore: 19.93 \tAverage Score (last 100): 10.03\n",
      "Episode 35\tScore: 17.71 \tAverage Score (last 100): 10.25\n",
      "Episode 36\tScore: 16.97 \tAverage Score (last 100): 10.43\n",
      "Episode 37\tScore: 17.82 \tAverage Score (last 100): 10.63\n",
      "Episode 38\tScore: 18.97 \tAverage Score (last 100): 10.85\n",
      "Episode 39\tScore: 18.53 \tAverage Score (last 100): 11.05\n",
      "Episode 40\tScore: 17.99 \tAverage Score (last 100): 11.22\n",
      "Episode 41\tScore: 18.55 \tAverage Score (last 100): 11.40\n",
      "Episode 42\tScore: 19.85 \tAverage Score (last 100): 11.60\n",
      "Episode 43\tScore: 21.15 \tAverage Score (last 100): 11.82\n",
      "Episode 44\tScore: 20.50 \tAverage Score (last 100): 12.02\n",
      "Episode 45\tScore: 20.76 \tAverage Score (last 100): 12.22\n",
      "Episode 46\tScore: 22.99 \tAverage Score (last 100): 12.45\n",
      "Episode 47\tScore: 21.64 \tAverage Score (last 100): 12.65\n",
      "Episode 48\tScore: 22.42 \tAverage Score (last 100): 12.85\n",
      "Episode 49\tScore: 21.81 \tAverage Score (last 100): 13.03\n",
      "Episode 50\tScore: 22.93 \tAverage Score (last 100): 13.23\n",
      "Episode 51\tScore: 24.27 \tAverage Score (last 100): 13.45\n",
      "Episode 52\tScore: 25.06 \tAverage Score (last 100): 13.67\n",
      "Episode 53\tScore: 23.89 \tAverage Score (last 100): 13.86\n",
      "Episode 54\tScore: 25.15 \tAverage Score (last 100): 14.07\n",
      "Episode 55\tScore: 25.04 \tAverage Score (last 100): 14.27\n",
      "Episode 56\tScore: 26.14 \tAverage Score (last 100): 14.48\n",
      "Episode 57\tScore: 27.44 \tAverage Score (last 100): 14.71\n",
      "Episode 58\tScore: 27.05 \tAverage Score (last 100): 14.92\n",
      "Episode 59\tScore: 29.24 \tAverage Score (last 100): 15.17\n",
      "Episode 60\tScore: 28.30 \tAverage Score (last 100): 15.38\n",
      "Episode 61\tScore: 32.05 \tAverage Score (last 100): 15.66\n",
      "Episode 62\tScore: 31.21 \tAverage Score (last 100): 15.91\n",
      "Episode 63\tScore: 29.34 \tAverage Score (last 100): 16.12\n",
      "Episode 64\tScore: 29.60 \tAverage Score (last 100): 16.33\n",
      "Episode 65\tScore: 30.85 \tAverage Score (last 100): 16.56\n",
      "Episode 66\tScore: 30.66 \tAverage Score (last 100): 16.77\n",
      "Episode 67\tScore: 33.79 \tAverage Score (last 100): 17.02\n",
      "Episode 68\tScore: 31.99 \tAverage Score (last 100): 17.24\n",
      "Episode 69\tScore: 32.02 \tAverage Score (last 100): 17.46\n",
      "Episode 70\tScore: 33.10 \tAverage Score (last 100): 17.68\n",
      "Episode 71\tScore: 34.38 \tAverage Score (last 100): 17.92\n",
      "Episode 72\tScore: 34.41 \tAverage Score (last 100): 18.15\n",
      "Episode 73\tScore: 33.99 \tAverage Score (last 100): 18.36\n",
      "Episode 74\tScore: 33.19 \tAverage Score (last 100): 18.56\n",
      "Episode 75\tScore: 34.25 \tAverage Score (last 100): 18.77\n",
      "Episode 76\tScore: 35.74 \tAverage Score (last 100): 19.00\n",
      "Episode 77\tScore: 35.52 \tAverage Score (last 100): 19.21\n",
      "Episode 78\tScore: 35.36 \tAverage Score (last 100): 19.42\n",
      "Episode 79\tScore: 34.91 \tAverage Score (last 100): 19.61\n",
      "Episode 80\tScore: 33.71 \tAverage Score (last 100): 19.79\n",
      "Episode 81\tScore: 34.83 \tAverage Score (last 100): 19.98\n",
      "Episode 82\tScore: 34.82 \tAverage Score (last 100): 20.16\n",
      "Episode 83\tScore: 35.95 \tAverage Score (last 100): 20.35\n",
      "Episode 84\tScore: 35.82 \tAverage Score (last 100): 20.53\n",
      "Episode 85\tScore: 35.01 \tAverage Score (last 100): 20.70\n",
      "Episode 86\tScore: 34.17 \tAverage Score (last 100): 20.86\n",
      "Episode 87\tScore: 35.64 \tAverage Score (last 100): 21.03\n",
      "Episode 88\tScore: 34.78 \tAverage Score (last 100): 21.18\n",
      "Episode 89\tScore: 33.87 \tAverage Score (last 100): 21.33\n",
      "Episode 90\tScore: 34.41 \tAverage Score (last 100): 21.47\n",
      "Episode 91\tScore: 35.62 \tAverage Score (last 100): 21.63\n",
      "Episode 92\tScore: 35.11 \tAverage Score (last 100): 21.77\n",
      "Episode 93\tScore: 35.25 \tAverage Score (last 100): 21.92\n",
      "Episode 94\tScore: 35.07 \tAverage Score (last 100): 22.06\n",
      "Episode 95\tScore: 35.83 \tAverage Score (last 100): 22.20\n",
      "Episode 96\tScore: 36.38 \tAverage Score (last 100): 22.35\n",
      "Episode 97\tScore: 36.11 \tAverage Score (last 100): 22.49\n",
      "Episode 98\tScore: 36.38 \tAverage Score (last 100): 22.63\n",
      "Episode 99\tScore: 36.73 \tAverage Score (last 100): 22.78\n",
      "Episode 100\tScore: 36.68 \tAverage Score (last 100): 22.92\n",
      "Episode 101\tScore: 37.14 \tAverage Score (last 100): 23.28\n",
      "Episode 102\tScore: 37.76 \tAverage Score (last 100): 23.65\n",
      "Episode 103\tScore: 36.57 \tAverage Score (last 100): 23.99\n",
      "Episode 104\tScore: 36.63 \tAverage Score (last 100): 24.34\n",
      "Episode 105\tScore: 36.39 \tAverage Score (last 100): 24.67\n",
      "Episode 106\tScore: 36.06 \tAverage Score (last 100): 25.00\n",
      "Episode 107\tScore: 36.81 \tAverage Score (last 100): 25.33\n",
      "Episode 108\tScore: 36.71 \tAverage Score (last 100): 25.65\n",
      "Episode 109\tScore: 36.15 \tAverage Score (last 100): 25.97\n",
      "Episode 110\tScore: 36.59 \tAverage Score (last 100): 26.28\n",
      "Episode 111\tScore: 36.11 \tAverage Score (last 100): 26.58\n",
      "Episode 112\tScore: 36.13 \tAverage Score (last 100): 26.88\n",
      "Episode 113\tScore: 37.38 \tAverage Score (last 100): 27.17\n",
      "Episode 114\tScore: 36.68 \tAverage Score (last 100): 27.45\n",
      "Episode 115\tScore: 35.49 \tAverage Score (last 100): 27.71\n",
      "Episode 116\tScore: 36.96 \tAverage Score (last 100): 27.99\n",
      "Episode 117\tScore: 35.08 \tAverage Score (last 100): 28.25\n",
      "Episode 118\tScore: 36.01 \tAverage Score (last 100): 28.51\n",
      "Episode 119\tScore: 35.38 \tAverage Score (last 100): 28.75\n",
      "Episode 120\tScore: 35.42 \tAverage Score (last 100): 28.99\n",
      "Episode 121\tScore: 34.10 \tAverage Score (last 100): 29.20\n",
      "Episode 122\tScore: 34.34 \tAverage Score (last 100): 29.41\n",
      "Episode 123\tScore: 35.86 \tAverage Score (last 100): 29.63\n",
      "Episode 124\tScore: 36.05 \tAverage Score (last 100): 29.85\n",
      "Episode 125\tScore: 35.57 \tAverage Score (last 100): 30.06\n",
      "\n",
      "Environment solved in 25 episodes!\tAverage Score: 30.06\n",
      "\n",
      "Elapsed DDPG execution time: 0:00:29.374000\n"
     ]
    }
   ],
   "source": [
    "#Evaluating algorithm and getting average scores between agents in each episode\n",
    "start = time.time()\n",
    "average_scores = ddpg(agents, env, brain_name, print_every=1)\n",
    "end = time.time()\n",
    "\n",
    "elapsedTime = str(datetime.timedelta(milliseconds=round(end - start)))\n",
    "print(\"\\nElapsed DDPG execution time: {0}\".format(elapsedTime))"
   ]
  },
  {
   "cell_type": "code",
   "execution_count": 14,
   "metadata": {},
   "outputs": [
    {
     "data": {
      "image/png": "[encoded data removed]",
      "text/plain": [
       "<Figure size 432x288 with 1 Axes>"
      ]
     },
     "metadata": {},
     "output_type": "display_data"
    }
   ],
   "source": [
    "plot_scores(average_scores)"
   ]
  },
  {
   "cell_type": "code",
   "execution_count": 15,
   "metadata": {},
   "outputs": [
    {
     "name": "stdout",
     "output_type": "stream",
     "text": [
      "Episode 1 average of total rewards: 6.620999852009118\n",
      "Episode 2 average of total rewards: 6.446999855898321\n",
      "Episode 3 average of total rewards: 6.671999850869179\n",
      "Episode 4 average of total rewards: 6.15749986236915\n",
      "Episode 5 average of total rewards: 6.522499854210764\n",
      "Average score of agents: 6.483999855071306\n"
     ]
    }
   ],
   "source": [
    "watch_agents(agents, brain_name, random_seed=random_seed)"
   ]
  },
  {
   "cell_type": "code",
   "execution_count": 16,
   "metadata": {},
   "outputs": [],
   "source": [
    "env.close()"
   ]
  }
 ],
 "metadata": {
  "kernelspec": {
   "display_name": "drlnd",
   "language": "python",
   "name": "drlnd"
  },
  "language_info": {
   "codemirror_mode": {
    "name": "ipython",
    "version": 3
   },
   "file_extension": ".py",
   "mimetype": "text/x-python",
   "name": "python",
   "nbconvert_exporter": "python",
   "pygments_lexer": "ipython3",
   "version": "3.6.9"
  }
 },
 "nbformat": 4,
 "nbformat_minor": 2
}
